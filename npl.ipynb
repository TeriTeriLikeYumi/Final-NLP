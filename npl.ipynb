{
 "cells": [
  {
   "cell_type": "code",
   "execution_count": 1,
   "metadata": {},
   "outputs": [
    {
     "name": "stderr",
     "output_type": "stream",
     "text": [
      "d:\\GitHubFile\\Final-NLP\\.venv\\lib\\site-packages\\tqdm\\auto.py:22: TqdmWarning: IProgress not found. Please update jupyter and ipywidgets. See https://ipywidgets.readthedocs.io/en/stable/user_install.html\n",
      "  from .autonotebook import tqdm as notebook_tqdm\n"
     ]
    }
   ],
   "source": [
    "#librabry\n",
    "import requests\n",
    "import math\n",
    "import matplotlib.pyplot as plt\n",
    "import shutil\n",
    "from getpass import getpass\n",
    "from PIL import Image, UnidentifiedImageError\n",
    "from requests.exceptions import HTTPError\n",
    "from io import BytesIO\n",
    "from pathlib import Path\n",
    "\n",
    "import os\n",
    "from os import listdir\n",
    "from os.path import isfile, join\n",
    "from xml.dom import minidom\n",
    "\n",
    "import torch\n",
    "import torch.nn as nn\n",
    "from sklearn.metrics import classification_report\n",
    "from collections import defaultdict\n",
    "import transformers\n",
    "from transformers import AutoTokenizer, AutoModelForSequenceClassification, AdamW, get_linear_schedule_with_warmup, AutoModel, BertTokenizerFast, BertModel, BertTokenizer\n",
    "from sklearn.model_selection import train_test_split\n",
    "from torch.utils.data import DataLoader, RandomSampler, SequentialSampler, TensorDataset\n",
    "import matplotlib.pyplot as plt\n",
    "\n",
    "import urllib.request\n",
    "import requests\n",
    "import re\n",
    "from tqdm import tqdm\n",
    "import pandas as pd\n",
    "import numpy as np\n",
    "import matplotlib.pyplot as plt\n",
    "import seaborn as sns\n",
    "\n",
    "from sklearn.metrics import classification_report\n",
    "from sklearn.metrics import confusion_matrix\n",
    "from sklearn import preprocessing\n",
    "from sklearn.decomposition import PCA"
   ]
  },
  {
   "cell_type": "code",
   "execution_count": 2,
   "metadata": {},
   "outputs": [],
   "source": [
    "# Specifying GPU\n",
    "device = torch.device ('cuda')"
   ]
  },
  {
   "cell_type": "code",
   "execution_count": 3,
   "metadata": {},
   "outputs": [],
   "source": [
    "#Training dataset\n",
    "path = 'D:/GitHubFile/Final-NLP/data/train'\n",
    "with open(path+'/en.txt') as f:\n",
    "    lines = f.readlines()"
   ]
  },
  {
   "cell_type": "code",
   "execution_count": 4,
   "metadata": {},
   "outputs": [],
   "source": [
    "id2gender_train = {}\n",
    "for item in lines:\n",
    "    n = 0\n",
    "    l = len (item)\n",
    "    if item[-7] == 'f':\n",
    "        v = 'F'\n",
    "        n = -10\n",
    "    else:\n",
    "        v = 'M'\n",
    "        n = -8\n",
    "    k = item[:n]\n",
    "    id2gender_train[k] = v\n"
   ]
  },
  {
   "cell_type": "code",
   "execution_count": 5,
   "metadata": {},
   "outputs": [],
   "source": [
    "id2texts_train = {}\n",
    "path1 = path + '/text/'\n",
    "for k in id2gender_train.keys():\n",
    "  file = minidom.parse (path1 + k + '.xml')\n",
    "  docs = file.getElementsByTagName ('document')\n",
    "  l = len (docs)\n",
    "  aux = [docs[i].childNodes[0].data for i in range (0, l)]\n",
    "  id2texts_train[k] = aux"
   ]
  },
  {
   "cell_type": "code",
   "execution_count": 6,
   "metadata": {},
   "outputs": [],
   "source": [
    "ids = [k for k in list(id2texts_train.keys()) for i in range (0, len(id2texts_train[k]))]\n",
    "texts = []\n",
    "for k in list(id2texts_train.keys()):\n",
    "  for t in id2texts_train[k]:\n",
    "    # Cleaning\n",
    "    t = re.sub ('\\S+@\\S+', ' ', t)\n",
    "    t = re.sub ('@\\S+', ' ', t)\n",
    "    t = re.sub ('http\\S+', ' ', t)\n",
    "    t = t.replace ('....', '.')\n",
    "    t = t.replace ('...', '.')\n",
    "    t = t.replace ('..', '.')\n",
    "    t = t.replace ('   ', ' ')\n",
    "    t = t.replace ('  ', ' ')\n",
    "    t = t.replace (',,,,', ',')\n",
    "    t = t.replace (',,,', ',')\n",
    "    t = t.replace (',,', ',')\n",
    "    if t[0] == ' ':\n",
    "      t = t[1:]\n",
    "    s = len (t)\n",
    "    if s != 0 and t[s-1] == ' ':\n",
    "      t = t[:s-1]\n",
    "    texts.append (t)\n",
    "df = pd.DataFrame (data={'ids':ids, 'texts':texts})\n",
    "df.to_csv ('D:/GitHubFile/Final-NLP/train_texts.csv', index=False)"
   ]
  },
  {
   "cell_type": "code",
   "execution_count": 7,
   "metadata": {},
   "outputs": [],
   "source": [
    "#Testing dataset\n",
    "path = 'D:/GitHubFile/Final-NLP/data/test'\n",
    "with open(path+'/en.txt') as f:\n",
    "    lines = f.readlines()"
   ]
  },
  {
   "cell_type": "code",
   "execution_count": 8,
   "metadata": {},
   "outputs": [],
   "source": [
    "id2gender_test = {}\n",
    "for item in lines:\n",
    "  n = 0\n",
    "  l = len (item)\n",
    "  if item[-7] == 'f':\n",
    "    v = 'F'\n",
    "    n = -10\n",
    "  else:\n",
    "    v = 'M'\n",
    "    n = -8\n",
    "  k = item[:n]\n",
    "  id2gender_test[k] = v"
   ]
  },
  {
   "cell_type": "code",
   "execution_count": 9,
   "metadata": {},
   "outputs": [],
   "source": [
    "id2texts_test = {}\n",
    "path1 = path + '/text/'\n",
    "for k in id2gender_test.keys():\n",
    "  file = minidom.parse (path1 + k + '.xml')\n",
    "  docs = file.getElementsByTagName ('document')\n",
    "  l = len (docs)\n",
    "  aux = [docs[i].childNodes[0].data for i in range (0, l)]\n",
    "  id2texts_test[k] = aux"
   ]
  },
  {
   "cell_type": "code",
   "execution_count": 10,
   "metadata": {},
   "outputs": [],
   "source": [
    "ids = [k for k in list(id2texts_test.keys()) for i in range (0, len(id2texts_test[k]))]\n",
    "texts = []\n",
    "for k in list(id2texts_test.keys()):\n",
    "  for t in id2texts_test[k]:\n",
    "    # Cleaning\n",
    "    t = re.sub ('\\S+@\\S+', ' ', t)\n",
    "    t = re.sub ('@\\S+', ' ', t)\n",
    "    t = re.sub ('http\\S+', ' ', t)\n",
    "    t = t.replace ('....', '.')\n",
    "    t = t.replace ('...', '.')\n",
    "    t = t.replace ('..', '.')\n",
    "    t = t.replace ('   ', ' ')\n",
    "    t = t.replace ('  ', ' ')\n",
    "    t = t.replace (',,,,', ',')\n",
    "    t = t.replace (',,,', ',')\n",
    "    t = t.replace (',,', ',')\n",
    "    if t[0] == ' ':\n",
    "      t = t[1:]\n",
    "    s = len (t)\n",
    "    if s != 0 and t[s-1] == ' ':\n",
    "      t = t[:s-1]\n",
    "    texts.append (t)\n",
    "df = pd.DataFrame (data={'ids':ids, 'texts':texts})\n",
    "df.to_csv ('D:/GitHubFile/Final-NLP/test_texts.csv', index=False)"
   ]
  },
  {
   "cell_type": "code",
   "execution_count": 11,
   "metadata": {},
   "outputs": [],
   "source": [
    "train_texts = pd.read_csv ('D:/GitHubFile/Final-NLP/train_texts.csv')\n",
    "test_texts = pd.read_csv ('D:/GitHubFile/Final-NLP/test_texts.csv')"
   ]
  },
  {
   "cell_type": "code",
   "execution_count": 34,
   "metadata": {},
   "outputs": [
    {
     "name": "stderr",
     "output_type": "stream",
     "text": [
      "Some weights of the model checkpoint at bert-base-cased were not used when initializing BertModel: ['cls.predictions.transform.LayerNorm.weight', 'cls.predictions.transform.LayerNorm.bias', 'cls.predictions.transform.dense.bias', 'cls.seq_relationship.weight', 'cls.seq_relationship.bias', 'cls.predictions.decoder.weight', 'cls.predictions.bias', 'cls.predictions.transform.dense.weight']\n",
      "- This IS expected if you are initializing BertModel from the checkpoint of a model trained on another task or with another architecture (e.g. initializing a BertForSequenceClassification model from a BertForPreTraining model).\n",
      "- This IS NOT expected if you are initializing BertModel from the checkpoint of a model that you expect to be exactly identical (initializing a BertForSequenceClassification model from a BertForSequenceClassification model).\n"
     ]
    }
   ],
   "source": [
    "bert = BertModel.from_pretrained ('bert-base-cased')\n",
    "tokenizer = BertTokenizer.from_pretrained ('bert-base-cased')"
   ]
  },
  {
   "cell_type": "code",
   "execution_count": 13,
   "metadata": {},
   "outputs": [],
   "source": [
    "ids = pd.unique(train_texts['ids']).tolist()\n",
    "id2texts_train = {}\n",
    "for i in ids:\n",
    "  id2texts_train[i] = []\n",
    "  df1 = train_texts[train_texts['ids'] == i]\n",
    "  for j in range (0, 10):\n",
    "    id2texts_train[i].append (' '.join (list(df1['texts'].astype(str))[10*j:10*(j+1)]))"
   ]
  },
  {
   "cell_type": "code",
   "execution_count": 14,
   "metadata": {},
   "outputs": [],
   "source": [
    "ids = pd.unique(test_texts['ids']).tolist()\n",
    "id2texts_test = {}\n",
    "for i in ids:\n",
    "  id2texts_test[i] = []\n",
    "  df1 = test_texts[test_texts['ids'] == i]\n",
    "  for j in range (0, 10):\n",
    "    id2texts_test[i].append (' '.join (list(df1['texts'].astype(str))[10*j:10*(j+1)]))"
   ]
  },
  {
   "cell_type": "code",
   "execution_count": 17,
   "metadata": {},
   "outputs": [],
   "source": [
    "max_len = 256"
   ]
  },
  {
   "cell_type": "code",
   "execution_count": 18,
   "metadata": {},
   "outputs": [
    {
     "name": "stderr",
     "output_type": "stream",
     "text": [
      "d:\\GitHubFile\\Final-NLP\\.venv\\lib\\site-packages\\transformers\\tokenization_utils_base.py:2336: FutureWarning: The `pad_to_max_length` argument is deprecated and will be removed in a future version, use `padding=True` or `padding='longest'` to pad to the longest sequence in the batch, or use `padding='max_length'` to pad to a max length. In this case, you can give a specific length with `max_length` (e.g. `max_length=45`) or leave max_length to None to pad to the maximal input size of the model (e.g. 512 for Bert).\n",
      "  warnings.warn(\n"
     ]
    }
   ],
   "source": [
    "id2tokens_train = {}\n",
    "for k in list(id2texts_train.keys()):\n",
    "  tokens = tokenizer.batch_encode_plus (id2texts_train[k], max_length=max_len, pad_to_max_length=True, add_special_tokens=True, truncation=True)\n",
    "  id2tokens_train[k] = tokens"
   ]
  },
  {
   "cell_type": "code",
   "execution_count": 19,
   "metadata": {},
   "outputs": [],
   "source": [
    "id2tokens_test = {}\n",
    "for k in list(id2texts_test.keys()):\n",
    "  tokens = tokenizer.batch_encode_plus (id2texts_test[k], max_length=max_len, pad_to_max_length=True, add_special_tokens=True, truncation=True)\n",
    "  id2tokens_test[k] = tokens"
   ]
  },
  {
   "cell_type": "code",
   "execution_count": 20,
   "metadata": {},
   "outputs": [],
   "source": [
    "# Convert lists to tensors\n",
    "ids = [x for x in range(0, len(id2tokens_train)) for i in range(0, 10)]\n",
    "ids = torch.tensor (ids)\n",
    "train_seq = [x for k in list(id2tokens_train.keys()) for x in id2tokens_train[k]['input_ids']]\n",
    "train_seq = torch.tensor (train_seq)\n",
    "train_mask = [x for k in list(id2tokens_train.keys()) for x in id2tokens_train[k]['attention_mask']]\n",
    "train_mask = torch.tensor (train_mask)\n",
    "train_y = [0 if id2gender_train[k] == 'F' else 1 for k in list(id2tokens_train.keys()) for i in range(0, 10)]\n",
    "train_y = torch.tensor (train_y)"
   ]
  },
  {
   "cell_type": "code",
   "execution_count": 21,
   "metadata": {},
   "outputs": [],
   "source": [
    "ids2 = [x for x in range(0, len(id2tokens_test)) for i in range(0, 10)]\n",
    "ids2 = torch.tensor (ids2)\n",
    "test_seq = [x for k in list(id2tokens_test.keys()) for x in id2tokens_test[k]['input_ids']]\n",
    "test_seq = torch.tensor (test_seq)\n",
    "test_mask = [x for k in list(id2tokens_test.keys()) for x in id2tokens_test[k]['attention_mask']]\n",
    "test_mask = torch.tensor (test_mask)\n",
    "test_y = [0 if id2gender_test[k] == 'F' else 1 for k in list(id2tokens_test.keys()) for i in range(0, 10)]\n",
    "test_y = torch.tensor (test_y)"
   ]
  },
  {
   "cell_type": "code",
   "execution_count": 22,
   "metadata": {},
   "outputs": [],
   "source": [
    "batch_size = 32"
   ]
  },
  {
   "cell_type": "code",
   "execution_count": 25,
   "metadata": {},
   "outputs": [],
   "source": [
    "classes = 2"
   ]
  },
  {
   "cell_type": "code",
   "execution_count": 32,
   "metadata": {},
   "outputs": [],
   "source": [
    "class BertGenderClassifier (nn.Module):\n",
    "  def __init__ (self, bert, classes):\n",
    "    super (BertGenderClassifier, self).__init__()\n",
    "\n",
    "    self.bert = bert\n",
    "    self.dropout = nn.Dropout (p=0.1)\n",
    "    self.out = nn.Linear (self.bert.config.hidden_size, classes)\n",
    "\n",
    "  def forward (self, input_ids, attention_mask):\n",
    "    _, bert_output = self.bert (input_ids=input_ids, \n",
    "                                attention_mask=attention_mask, return_dict=False)\n",
    "    #print (bert_output)\n",
    "    output = self.dropout (bert_output)\n",
    "    \n",
    "    return self.out (output)"
   ]
  },
  {
   "cell_type": "code",
   "execution_count": 33,
   "metadata": {},
   "outputs": [
    {
     "data": {
      "text/plain": [
       "<BarContainer object of 2 artists>"
      ]
     },
     "execution_count": 33,
     "metadata": {},
     "output_type": "execute_result"
    },
    {
     "data": {
      "image/png": "[encoded data removed]",
      "text/plain": [
       "<Figure size 640x480 with 1 Axes>"
      ]
     },
     "metadata": {},
     "output_type": "display_data"
    }
   ],
   "source": [
    "# Create an instance of our model and push it to GPU\n",
    "model = BertGenderClassifier (bert, classes)\n",
    "model = model.to (device)\n",
    "\n",
    "plt.bar (['Female', 'Male'], [train_y.tolist().count(0), train_y.tolist().count(1)])\n",
    "\n",
    "plt.bar (['Female', 'Male'], [test_y.tolist().count(0), test_y.tolist().count(1)])"
   ]
  },
  {
   "cell_type": "code",
   "execution_count": 28,
   "metadata": {},
   "outputs": [
    {
     "name": "stderr",
     "output_type": "stream",
     "text": [
      "d:\\GitHubFile\\Final-NLP\\.venv\\lib\\site-packages\\transformers\\optimization.py:306: FutureWarning: This implementation of AdamW is deprecated and will be removed in a future version. Use the PyTorch implementation torch.optim.AdamW instead, or set `no_deprecation_warning=True` to disable this warning\n",
      "  warnings.warn(\n"
     ]
    }
   ],
   "source": [
    "epochs = 8 #20\n",
    "\n",
    "optimizer = AdamW (model.parameters(), lr=2e-5)\n",
    "\n",
    "total_steps = len(train_dataloader) * epochs\n",
    "scheduler = get_linear_schedule_with_warmup (optimizer, num_warmup_steps=0, num_training_steps=total_steps)\n",
    "\n",
    "ce_loss = nn.CrossEntropyLoss().to (device)"
   ]
  },
  {
   "cell_type": "code",
   "execution_count": null,
   "metadata": {},
   "outputs": [],
   "source": []
  }
 ],
 "metadata": {
  "kernelspec": {
   "display_name": ".venv",
   "language": "python",
   "name": "python3"
  },
  "language_info": {
   "codemirror_mode": {
    "name": "ipython",
    "version": 3
   },
   "file_extension": ".py",
   "mimetype": "text/x-python",
   "name": "python",
   "nbconvert_exporter": "python",
   "pygments_lexer": "ipython3",
   "version": "3.9.13"
  },
  "orig_nbformat": 4,
  "vscode": {
   "interpreter": {
    "hash": "1d7122c453dd9b1ab46c35f66d5e3aad0f025d64bd30aa6565372762cd00f81e"
   }
  }
 },
 "nbformat": 4,
 "nbformat_minor": 2
}
